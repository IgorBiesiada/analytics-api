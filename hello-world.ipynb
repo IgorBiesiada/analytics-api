{
 "cells": [
  {
   "cell_type": "code",
   "execution_count": null,
   "id": "e49ab2e8",
   "metadata": {},
   "outputs": [
    {
     "name": "stdout",
     "output_type": "stream",
     "text": [
      "Collecting requests\n",
      "  Downloading requests-2.32.4-py3-none-any.whl.metadata (4.9 kB)\n",
      "Collecting charset_normalizer<4,>=2 (from requests)\n",
      "  Downloading charset_normalizer-3.4.2-cp313-cp313-win_amd64.whl.metadata (36 kB)\n",
      "Requirement already satisfied: idna<4,>=2.5 in c:\\users\\admin\\projects\\fastapi_projects\\analytics_api\\venv\\lib\\site-packages (from requests) (3.10)\n",
      "Collecting urllib3<3,>=1.21.1 (from requests)\n",
      "  Downloading urllib3-2.4.0-py3-none-any.whl.metadata (6.5 kB)\n",
      "Collecting certifi>=2017.4.17 (from requests)\n",
      "  Downloading certifi-2025.4.26-py3-none-any.whl.metadata (2.5 kB)\n",
      "Downloading requests-2.32.4-py3-none-any.whl (64 kB)\n",
      "Downloading charset_normalizer-3.4.2-cp313-cp313-win_amd64.whl (105 kB)\n",
      "Downloading urllib3-2.4.0-py3-none-any.whl (128 kB)\n",
      "Downloading certifi-2025.4.26-py3-none-any.whl (159 kB)\n",
      "Installing collected packages: urllib3, charset_normalizer, certifi, requests\n",
      "\n",
      "   ---------------------------------------- 0/4 [urllib3]\n",
      "   ---------------------------------------- 0/4 [urllib3]\n",
      "   ---------------------------------------- 0/4 [urllib3]\n",
      "   ---------- ----------------------------- 1/4 [charset_normalizer]\n",
      "   ---------- ----------------------------- 1/4 [charset_normalizer]\n",
      "   ------------------------------ --------- 3/4 [requests]\n",
      "   ------------------------------ --------- 3/4 [requests]\n",
      "   ---------------------------------------- 4/4 [requests]\n",
      "\n",
      "Successfully installed certifi-2025.4.26 charset_normalizer-3.4.2 requests-2.32.4 urllib3-2.4.0\n",
      "Note: you may need to restart the kernel to use updated packages.\n",
      "http://localhost:8002/healthz\n"
     ]
    }
   ],
   "source": [
    "#%pip install requests\n",
    "import requests\n",
    "\n",
    "path = \"/healthz\"\n",
    "base_url = \"http://localhost:8002\"\n",
    "endpoint = f\"{base_url}{path}\"\n",
    "print(endpoint)"
   ]
  }
 ],
 "metadata": {
  "kernelspec": {
   "display_name": "venv",
   "language": "python",
   "name": "python3"
  },
  "language_info": {
   "codemirror_mode": {
    "name": "ipython",
    "version": 3
   },
   "file_extension": ".py",
   "mimetype": "text/x-python",
   "name": "python",
   "nbconvert_exporter": "python",
   "pygments_lexer": "ipython3",
   "version": "3.13.2"
  }
 },
 "nbformat": 4,
 "nbformat_minor": 5
}
