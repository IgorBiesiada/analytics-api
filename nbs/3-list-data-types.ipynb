{
 "cells": [
  {
   "cell_type": "code",
   "execution_count": 4,
   "id": "e9830962",
   "metadata": {},
   "outputs": [
    {
     "name": "stdout",
     "output_type": "stream",
     "text": [
      "http://127.0.0.1:8002/api/events\n"
     ]
    }
   ],
   "source": [
    "import requests\n",
    "\n",
    "path = \"/api/events\"\n",
    "base_url = \"http://127.0.0.1:8002\"\n",
    "endpoint = f\"{base_url}{path}\"\n",
    "print(endpoint)"
   ]
  },
  {
   "cell_type": "code",
   "execution_count": 5,
   "id": "8efbc931",
   "metadata": {},
   "outputs": [
    {
     "name": "stdout",
     "output_type": "stream",
     "text": [
      "{'result': [{'created_at': '2025-07-02T12:28:02.884566Z', 'page': '/test+', 'updated_at': '2025-07-02T12:28:02.884572Z', 'description': '123', 'id': 2}, {'created_at': '2025-07-02T12:28:01.702651Z', 'page': '/test+', 'updated_at': '2025-07-02T12:28:01.702658Z', 'description': '123', 'id': 1}], 'count': 2} <class 'dict'> None\n"
     ]
    }
   ],
   "source": [
    "response = requests.get(endpoint)\n",
    "if response.ok:\n",
    "    data = response.json()\n",
    "    print(data, type(data), data.get('items'))"
   ]
  },
  {
   "cell_type": "code",
   "execution_count": null,
   "id": "50edf4c0",
   "metadata": {},
   "outputs": [
    {
     "name": "stdout",
     "output_type": "stream",
     "text": [
      "http://127.0.0.1:8002/api/events\n"
     ]
    }
   ],
   "source": [
    "\n",
    "import requests\n",
    "\n",
    "detail_path = \"/api/events/33\"\n",
    "base_url = \"http://127.0.0.1:8002\"\n",
    "detail_endpoint = f\"{base_url}{detail_path}\"\n",
    "print(detail_endpoint)\n",
    "\n",
    "response = requests.get(detail_endpoint)\n",
    "if response.ok:\n",
    "    data = response.json()\n",
    "    print(data)\n"
   ]
  }
 ],
 "metadata": {
  "kernelspec": {
   "display_name": "venv",
   "language": "python",
   "name": "python3"
  },
  "language_info": {
   "codemirror_mode": {
    "name": "ipython",
    "version": 3
   },
   "file_extension": ".py",
   "mimetype": "text/x-python",
   "name": "python",
   "nbconvert_exporter": "python",
   "pygments_lexer": "ipython3",
   "version": "3.13.2"
  }
 },
 "nbformat": 4,
 "nbformat_minor": 5
}
