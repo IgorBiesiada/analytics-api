{
 "cells": [
  {
   "cell_type": "code",
   "execution_count": 1,
   "id": "740c8435",
   "metadata": {},
   "outputs": [],
   "source": [
    "import requests\n",
    "\n"
   ]
  },
  {
   "cell_type": "code",
   "execution_count": 3,
   "id": "388e1ea5",
   "metadata": {},
   "outputs": [
    {
     "name": "stdout",
     "output_type": "stream",
     "text": [
      "{'date': 'Tue, 01 Jul 2025 19:29:14 GMT', 'server': 'uvicorn', 'content-length': '87', 'content-type': 'application/json'}\n",
      "{'page': '/test+', 'id': 1, 'created_at': '2025-07-01T19:29:14.944982Z', 'description': '123'} <class 'dict'> None\n"
     ]
    }
   ],
   "source": [
    "path = \"/api/events\"\n",
    "base_url = \"http://127.0.0.1:8002\"\n",
    "endpoint = f\"{base_url}{path}\"\n",
    "\n",
    "response = requests.post(endpoint, json={\"page\": \"/test+\", \"description\": \"123\"})\n",
    "print(response.headers)\n",
    "if response.ok:\n",
    "    data = response.json()\n",
    "    print(data, type(data), data.get('items'))"
   ]
  },
  {
   "cell_type": "code",
   "execution_count": 19,
   "id": "8db410bf",
   "metadata": {},
   "outputs": [
    {
     "name": "stdout",
     "output_type": "stream",
     "text": [
      "{'date': 'Tue, 01 Jul 2025 18:42:42 GMT', 'server': 'uvicorn', 'content-length': '21', 'content-type': 'text/plain; charset=utf-8'}\n",
      "Internal Server Error\n"
     ]
    }
   ],
   "source": [
    "detail_path = \"/api/events/3\"\n",
    "detail_endpoint = f\"{base_url}{detail_path}\"\n",
    "\n",
    "headers = {\n",
    "    \"Content-Type\": \"application/json\"\n",
    "}\n",
    "\n",
    "response = requests.put(detail_endpoint, json={\"description\": \"test\"})\n",
    "print(response.headers)\n",
    "if response.ok:\n",
    "    data = response.json()\n",
    "    print(data, type(data), data.get('items'))\n",
    "else:\n",
    "    print(response.text)"
   ]
  },
  {
   "cell_type": "code",
   "execution_count": 23,
   "id": "eaded8c0",
   "metadata": {},
   "outputs": [
    {
     "name": "stdout",
     "output_type": "stream",
     "text": [
      "{'date': 'Tue, 01 Jul 2025 18:51:51 GMT', 'server': 'uvicorn', 'content-length': '38', 'content-type': 'application/json'}\n",
      "{'id': None, 'page': '', 'description': ''} <class 'dict'> None\n"
     ]
    }
   ],
   "source": [
    "detail_path = \"/api/events/2\"\n",
    "detail_endpoint = f\"{base_url}{detail_path}\"\n",
    "\n",
    "headers = {\n",
    "    \"Content-Type\": \"application/json\"\n",
    "}\n",
    "\n",
    "response = requests.delete(detail_endpoint)\n",
    "print(response.headers)\n",
    "if response.ok:\n",
    "    data = response.json()\n",
    "    print(data, type(data), data.get('items'))\n",
    "else:\n",
    "    print(response.text)"
   ]
  }
 ],
 "metadata": {
  "kernelspec": {
   "display_name": "venv",
   "language": "python",
   "name": "python3"
  },
  "language_info": {
   "codemirror_mode": {
    "name": "ipython",
    "version": 3
   },
   "file_extension": ".py",
   "mimetype": "text/x-python",
   "name": "python",
   "nbconvert_exporter": "python",
   "pygments_lexer": "ipython3",
   "version": "3.13.2"
  }
 },
 "nbformat": 4,
 "nbformat_minor": 5
}
