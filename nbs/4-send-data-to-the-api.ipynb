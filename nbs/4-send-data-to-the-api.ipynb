{
 "cells": [
  {
   "cell_type": "code",
   "execution_count": 1,
   "id": "740c8435",
   "metadata": {},
   "outputs": [
    {
     "ename": "ModuleNotFoundError",
     "evalue": "No module named 'requests'",
     "output_type": "error",
     "traceback": [
      "\u001b[31m---------------------------------------------------------------------------\u001b[39m",
      "\u001b[31mModuleNotFoundError\u001b[39m                       Traceback (most recent call last)",
      "\u001b[36mCell\u001b[39m\u001b[36m \u001b[39m\u001b[32mIn[1]\u001b[39m\u001b[32m, line 1\u001b[39m\n\u001b[32m----> \u001b[39m\u001b[32m1\u001b[39m \u001b[38;5;28;01mimport\u001b[39;00m\u001b[38;5;250m \u001b[39m\u001b[34;01mrequests\u001b[39;00m\n",
      "\u001b[31mModuleNotFoundError\u001b[39m: No module named 'requests'"
     ]
    }
   ],
   "source": [
    "import requests\n",
    "\n"
   ]
  },
  {
   "cell_type": "code",
   "execution_count": 16,
   "id": "388e1ea5",
   "metadata": {},
   "outputs": [
    {
     "ename": "NameError",
     "evalue": "name 'requests' is not defined",
     "output_type": "error",
     "traceback": [
      "\u001b[31m---------------------------------------------------------------------------\u001b[39m",
      "\u001b[31mNameError\u001b[39m                                 Traceback (most recent call last)",
      "\u001b[36mCell\u001b[39m\u001b[36m \u001b[39m\u001b[32mIn[16]\u001b[39m\u001b[32m, line 5\u001b[39m\n\u001b[32m      2\u001b[39m base_url = \u001b[33m\"\u001b[39m\u001b[33mhttp://127.0.0.1:8002\u001b[39m\u001b[33m\"\u001b[39m\n\u001b[32m      3\u001b[39m endpoint = \u001b[33mf\u001b[39m\u001b[33m\"\u001b[39m\u001b[38;5;132;01m{\u001b[39;00mbase_url\u001b[38;5;132;01m}\u001b[39;00m\u001b[38;5;132;01m{\u001b[39;00mpath\u001b[38;5;132;01m}\u001b[39;00m\u001b[33m\"\u001b[39m\n\u001b[32m----> \u001b[39m\u001b[32m5\u001b[39m response = \u001b[43mrequests\u001b[49m.post(endpoint, json={\u001b[33m\"\u001b[39m\u001b[33mpage\u001b[39m\u001b[33m\"\u001b[39m: \u001b[33m\"\u001b[39m\u001b[33m/test+\u001b[39m\u001b[33m\"\u001b[39m, \u001b[33m\"\u001b[39m\u001b[33mdescription\u001b[39m\u001b[33m\"\u001b[39m: \u001b[33m\"\u001b[39m\u001b[33m123\u001b[39m\u001b[33m\"\u001b[39m})\n\u001b[32m      6\u001b[39m \u001b[38;5;28mprint\u001b[39m(response.headers)\n\u001b[32m      7\u001b[39m \u001b[38;5;28;01mif\u001b[39;00m response.ok:\n",
      "\u001b[31mNameError\u001b[39m: name 'requests' is not defined"
     ]
    }
   ],
   "source": [
    "path = \"/api/events\"\n",
    "base_url = \"http://127.0.0.1:8002\"\n",
    "endpoint = f\"{base_url}{path}\"\n",
    "\n",
    "response = requests.post(endpoint, json={\"page\": \"/test+\", \"description\": \"123\"})\n",
    "print(response.headers)\n",
    "if response.ok:\n",
    "    data = response.json()\n",
    "    print(data, type(data), data.get('items'))"
   ]
  },
  {
   "cell_type": "code",
   "execution_count": 8,
   "id": "8db410bf",
   "metadata": {},
   "outputs": [
    {
     "name": "stdout",
     "output_type": "stream",
     "text": [
      "{'date': 'Wed, 02 Jul 2025 12:30:56 GMT', 'server': 'uvicorn', 'content-length': '28', 'content-type': 'application/json'}\n",
      "{\"detail\":\"event not found\"}\n"
     ]
    }
   ],
   "source": [
    "detail_path = \"/api/events/3\"\n",
    "detail_endpoint = f\"{base_url}{detail_path}\"\n",
    "\n",
    "headers = {\n",
    "    \"Content-Type\": \"application/json\"\n",
    "}\n",
    "\n",
    "response = requests.put(detail_endpoint, json={\"description\": \"test\"})\n",
    "print(response.headers)\n",
    "if response.ok:\n",
    "    data = response.json()\n",
    "    print(data, type(data), data.get('items'))\n",
    "else:\n",
    "    print(response.text)"
   ]
  },
  {
   "cell_type": "code",
   "execution_count": 23,
   "id": "eaded8c0",
   "metadata": {},
   "outputs": [
    {
     "name": "stdout",
     "output_type": "stream",
     "text": [
      "{'date': 'Tue, 01 Jul 2025 18:51:51 GMT', 'server': 'uvicorn', 'content-length': '38', 'content-type': 'application/json'}\n",
      "{'id': None, 'page': '', 'description': ''} <class 'dict'> None\n"
     ]
    }
   ],
   "source": [
    "detail_path = \"/api/events/2\"\n",
    "detail_endpoint = f\"{base_url}{detail_path}\"\n",
    "\n",
    "headers = {\n",
    "    \"Content-Type\": \"application/json\"\n",
    "}\n",
    "\n",
    "response = requests.delete(detail_endpoint)\n",
    "print(response.headers)\n",
    "if response.ok:\n",
    "    data = response.json()\n",
    "    print(data, type(data), data.get('items'))\n",
    "else:\n",
    "    print(response.text)"
   ]
  },
  {
   "cell_type": "code",
   "execution_count": null,
   "id": "c25b5241",
   "metadata": {},
   "outputs": [],
   "source": [
    "import random\n",
    "event_count = 10_000\n",
    "\n",
    "pages = ['/about', '/contact', '/pages', '/pricing']\n",
    "\n",
    "for i in range(event_count):\n",
    "    page = random.choice(pages)\n",
    "    response = requests.post(endpoint, json={\"page\": page})\n",
    "    if response.ok:\n",
    "        data = response.json()\n",
    "        print(data, type(data), data.get('items'))"
   ]
  }
 ],
 "metadata": {
  "kernelspec": {
   "display_name": "venv",
   "language": "python",
   "name": "python3"
  },
  "language_info": {
   "codemirror_mode": {
    "name": "ipython",
    "version": 3
   },
   "file_extension": ".py",
   "mimetype": "text/x-python",
   "name": "python",
   "nbconvert_exporter": "python",
   "pygments_lexer": "ipython3",
   "version": "3.12.3"
  }
 },
 "nbformat": 4,
 "nbformat_minor": 5
}
